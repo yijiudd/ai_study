{
 "cells": [
  {
   "cell_type": "code",
   "execution_count": 2,
   "metadata": {},
   "outputs": [
    {
     "name": "stdout",
     "output_type": "stream",
     "text": [
      "Loading data now...\n",
      "Loading data takes 2.092408 seconds\n"
     ]
    }
   ],
   "source": [
    "import pandas as pd\n",
    "import time\n",
    "print('Loading data now...')\n",
    "start=time.time()\n",
    "df=pd.read_csv('./Hotel_Reviews.csv')\n",
    "end=time.time()\n",
    "print(\"Loading data takes %f seconds\"%(end-start))"
   ]
  },
  {
   "cell_type": "code",
   "execution_count": 55,
   "metadata": {},
   "outputs": [
    {
     "name": "stdout",
     "output_type": "stream",
     "text": [
      "Most frequent hitel for  United Kingdom  is Britannia International Hotel Canary Wharfwith number of reviews 3833\n",
      "Most frequent hitel for  United States of America  is Hotel Esther awith number of reviews 423\n",
      "Most frequent hitel for  Australia  is Park Plaza Westminster Bridge Londonwith number of reviews 167\n",
      "Most frequent hitel for  Ireland  is Copthorne Tara Hotel London Kensingtonwith number of reviews 239\n",
      "Most frequent hitel for  United Arab Emirates  is Millennium Hotel London Knightsbridgewith number of reviews 129\n",
      "Most frequent hitel for  Saudi Arabia  is The Cumberland A Guoman Hotelwith number of reviews 142\n",
      "Most frequent hitel for  Netherlands  is Jaz Amsterdamwith number of reviews 97\n",
      "Most frequent hitel for  Switzerland  is Hotel Da Vinciwith number of reviews 97\n",
      "Most frequent hitel for  Germany  is Hotel Da Vinciwith number of reviews 86\n",
      "Most frequent hitel for  Canada  is St James Court A Taj Hotel Londonwith number of reviews 61\n"
     ]
    },
    {
     "data": {
      "text/plain": [
       "127"
      ]
     },
     "execution_count": 55,
     "metadata": {},
     "output_type": "execute_result"
    }
   ],
   "source": [
    "import numpy as np\n",
    "# print out the shape of data frame just loaded\n",
    "# print(df.shape)\n",
    "#calculate the frequency count for reviewer nationality\n",
    "#1. how many distinct values are there in the column Rviewer_Nationality\n",
    "# df['Reviewer_Nationality'].unique().shape\n",
    "#2. What reviewer nationality is the most common inthe dataset?\n",
    "df['Reviewer_Nationality'].value_counts()[:1]\n",
    "#3.What are the next top 10 most frequentlly found nationalities and their counts\n",
    "df['Reviewer_Nationality'].value_counts().index[0:10]\n",
    "#what was the most frequently reviewed hotel for each of the top 10 most frequent reviewer nationalities?provide the code to answer this question\n",
    "#1. create a new data frame that contains only the top 10 most frequent reviewer nationalities\n",
    "nationalities_array=df['Reviewer_Nationality'].value_counts().index[0:10]\n",
    "for nationality in nationalities_array:\n",
    "    most_frequent_hotel=df.loc[df['Reviewer_Nationality']==nationality,'Hotel_Name'].value_counts()\n",
    "    print(f'Most frequent hitel for {nationality} is {most_frequent_hotel.index[0]}with number of reviews {most_frequent_hotel[0]}')\n",
    "\n",
    "#How many reviews are there per hotel (frequency count of hotel) in the dataset?\n",
    "df['Hotel_Name'].value_counts()\n",
    "#While there is an Average_Score column for each hotel in the dataset, you can also calculate an average score (getting the average of all reviewer scores in the dataset for each hotel). Add a new column to your dataframe with the column header Calc_Average_Score that contains that calculated average.\n",
    "df['Calc_Average_Score']=df.groupby('Hotel_Name')['Reviewer_Score'].transform(np.mean)\n",
    "#Do any hotels have the same (rounded to 1 decimal place) Average_Score and Calc_Average_Score?\n",
    "df['Average_Score'].round(1)==df['Calc_Average_Score'].round(1)\n",
    "#If so, which ones?\n",
    "# print(df.loc[df['Average_Score'].round(1)==df['Calc_Average_Score'].round(1),'Hotel_Name'])\n",
    "#Calculate and print out how many rows have column Negative_Review values of \"No Negative\"\n",
    "df.loc[df['Negative_Review']=='No Negative'].shape[0]\n",
    "#Calculate and print out how many rows have column Positive_Review values of \"No Positive\"\n",
    "df.loc[df['Positive_Review']=='No Positive'].shape[0]\n",
    "#Calculate and print out how many rows have column Negative_Review values of \"No Negative\" and column Positive_Review values of \"No Positive\"\n",
    "df.loc[(df['Negative_Review']=='No Negative')&(df['Positive_Review']=='No Positive')].shape[0]\n",
    "\n"
   ]
  }
 ],
 "metadata": {
  "kernelspec": {
   "display_name": ".venv",
   "language": "python",
   "name": "python3"
  },
  "language_info": {
   "codemirror_mode": {
    "name": "ipython",
    "version": 3
   },
   "file_extension": ".py",
   "mimetype": "text/x-python",
   "name": "python",
   "nbconvert_exporter": "python",
   "pygments_lexer": "ipython3",
   "version": "3.10.11"
  },
  "orig_nbformat": 4
 },
 "nbformat": 4,
 "nbformat_minor": 2
}
